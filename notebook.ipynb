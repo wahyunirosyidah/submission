{
 "cells": [
  {
   "cell_type": "markdown",
   "id": "c52ff006-52d2-4a0b-addc-9543abc1e79b",
   "metadata": {},
   "source": [
    "# Proyek Analisis Data: Bike Sharing Dataset\n",
    "- **Nama:** WAHYUNI FAJRIN ROSYIDAH\n",
    "- **Email:** wahyunirosyidah@gmail.com\n",
    "- **ID Dicoding:** M587B4KX4461"
   ]
  },
  {
   "cell_type": "markdown",
   "id": "5b755514-3ae0-4c41-a6a2-a59d49017757",
   "metadata": {},
   "source": [
    "## Menentukan Pertanyaan Bisnis"
   ]
  },
  {
   "cell_type": "markdown",
   "id": "c604b827-c7bf-42d8-ba60-26b46c1acccd",
   "metadata": {},
   "source": [
    "- Bagaimana Tren Penyewaan Sepeda Sepanjang Tahun 2011 dan 2012? \n",
    "- Bagaimana Dampak Kondisi Cuaca Terhadap Jumlah Penyewaan Sepeda?\n"
   ]
  },
  {
   "cell_type": "markdown",
   "id": "6c9bc016-35c1-48f7-a00e-2f97c154ab06",
   "metadata": {},
   "source": [
    "## Import Semua Packages/Library yang Digunakan"
   ]
  },
  {
   "cell_type": "code",
   "execution_count": 2,
   "id": "ad652da7-4ea9-4410-90f0-fc6cea55413e",
   "metadata": {},
   "outputs": [],
   "source": [
    "import numpy as np\n",
    "import pandas as pd\n",
    "import matplotlib.pyplot as plt\n",
    "import seaborn as sns\n",
    "import calendar"
   ]
  },
  {
   "cell_type": "markdown",
   "id": "d4f232b6-4eed-4d42-bc23-86f16d5743c6",
   "metadata": {},
   "source": [
    "## Data Wrangling"
   ]
  },
  {
   "cell_type": "markdown",
   "id": "50683a99-8103-4726-9a1c-017d620fb738",
   "metadata": {},
   "source": [
    "### Gathering Data"
   ]
  },
  {
   "cell_type": "markdown",
   "id": "ddd89944-6981-49e5-a1eb-0836121a45b2",
   "metadata": {},
   "source": [
    "#### Load day table"
   ]
  },
  {
   "cell_type": "code",
   "execution_count": 3,
   "id": "faa60fb1-533b-4b78-baf1-006db59623e0",
   "metadata": {},
   "outputs": [
    {
     "data": {
      "text/html": [
       "<div>\n",
       "<style scoped>\n",
       "    .dataframe tbody tr th:only-of-type {\n",
       "        vertical-align: middle;\n",
       "    }\n",
       "\n",
       "    .dataframe tbody tr th {\n",
       "        vertical-align: top;\n",
       "    }\n",
       "\n",
       "    .dataframe thead th {\n",
       "        text-align: right;\n",
       "    }\n",
       "</style>\n",
       "<table border=\"1\" class=\"dataframe\">\n",
       "  <thead>\n",
       "    <tr style=\"text-align: right;\">\n",
       "      <th></th>\n",
       "      <th>instant</th>\n",
       "      <th>dteday</th>\n",
       "      <th>season</th>\n",
       "      <th>yr</th>\n",
       "      <th>mnth</th>\n",
       "      <th>holiday</th>\n",
       "      <th>weekday</th>\n",
       "      <th>workingday</th>\n",
       "      <th>weathersit</th>\n",
       "      <th>temp</th>\n",
       "      <th>atemp</th>\n",
       "      <th>hum</th>\n",
       "      <th>windspeed</th>\n",
       "      <th>casual</th>\n",
       "      <th>registered</th>\n",
       "      <th>cnt</th>\n",
       "    </tr>\n",
       "  </thead>\n",
       "  <tbody>\n",
       "    <tr>\n",
       "      <th>0</th>\n",
       "      <td>1</td>\n",
       "      <td>2011-01-01</td>\n",
       "      <td>1</td>\n",
       "      <td>0</td>\n",
       "      <td>1</td>\n",
       "      <td>0</td>\n",
       "      <td>6</td>\n",
       "      <td>0</td>\n",
       "      <td>2</td>\n",
       "      <td>0.344167</td>\n",
       "      <td>0.363625</td>\n",
       "      <td>0.805833</td>\n",
       "      <td>0.160446</td>\n",
       "      <td>331</td>\n",
       "      <td>654</td>\n",
       "      <td>985</td>\n",
       "    </tr>\n",
       "    <tr>\n",
       "      <th>1</th>\n",
       "      <td>2</td>\n",
       "      <td>2011-01-02</td>\n",
       "      <td>1</td>\n",
       "      <td>0</td>\n",
       "      <td>1</td>\n",
       "      <td>0</td>\n",
       "      <td>0</td>\n",
       "      <td>0</td>\n",
       "      <td>2</td>\n",
       "      <td>0.363478</td>\n",
       "      <td>0.353739</td>\n",
       "      <td>0.696087</td>\n",
       "      <td>0.248539</td>\n",
       "      <td>131</td>\n",
       "      <td>670</td>\n",
       "      <td>801</td>\n",
       "    </tr>\n",
       "    <tr>\n",
       "      <th>2</th>\n",
       "      <td>3</td>\n",
       "      <td>2011-01-03</td>\n",
       "      <td>1</td>\n",
       "      <td>0</td>\n",
       "      <td>1</td>\n",
       "      <td>0</td>\n",
       "      <td>1</td>\n",
       "      <td>1</td>\n",
       "      <td>1</td>\n",
       "      <td>0.196364</td>\n",
       "      <td>0.189405</td>\n",
       "      <td>0.437273</td>\n",
       "      <td>0.248309</td>\n",
       "      <td>120</td>\n",
       "      <td>1229</td>\n",
       "      <td>1349</td>\n",
       "    </tr>\n",
       "    <tr>\n",
       "      <th>3</th>\n",
       "      <td>4</td>\n",
       "      <td>2011-01-04</td>\n",
       "      <td>1</td>\n",
       "      <td>0</td>\n",
       "      <td>1</td>\n",
       "      <td>0</td>\n",
       "      <td>2</td>\n",
       "      <td>1</td>\n",
       "      <td>1</td>\n",
       "      <td>0.200000</td>\n",
       "      <td>0.212122</td>\n",
       "      <td>0.590435</td>\n",
       "      <td>0.160296</td>\n",
       "      <td>108</td>\n",
       "      <td>1454</td>\n",
       "      <td>1562</td>\n",
       "    </tr>\n",
       "    <tr>\n",
       "      <th>4</th>\n",
       "      <td>5</td>\n",
       "      <td>2011-01-05</td>\n",
       "      <td>1</td>\n",
       "      <td>0</td>\n",
       "      <td>1</td>\n",
       "      <td>0</td>\n",
       "      <td>3</td>\n",
       "      <td>1</td>\n",
       "      <td>1</td>\n",
       "      <td>0.226957</td>\n",
       "      <td>0.229270</td>\n",
       "      <td>0.436957</td>\n",
       "      <td>0.186900</td>\n",
       "      <td>82</td>\n",
       "      <td>1518</td>\n",
       "      <td>1600</td>\n",
       "    </tr>\n",
       "  </tbody>\n",
       "</table>\n",
       "</div>"
      ],
      "text/plain": [
       "   instant      dteday  season  yr  mnth  holiday  weekday  workingday  \\\n",
       "0        1  2011-01-01       1   0     1        0        6           0   \n",
       "1        2  2011-01-02       1   0     1        0        0           0   \n",
       "2        3  2011-01-03       1   0     1        0        1           1   \n",
       "3        4  2011-01-04       1   0     1        0        2           1   \n",
       "4        5  2011-01-05       1   0     1        0        3           1   \n",
       "\n",
       "   weathersit      temp     atemp       hum  windspeed  casual  registered  \\\n",
       "0           2  0.344167  0.363625  0.805833   0.160446     331         654   \n",
       "1           2  0.363478  0.353739  0.696087   0.248539     131         670   \n",
       "2           1  0.196364  0.189405  0.437273   0.248309     120        1229   \n",
       "3           1  0.200000  0.212122  0.590435   0.160296     108        1454   \n",
       "4           1  0.226957  0.229270  0.436957   0.186900      82        1518   \n",
       "\n",
       "    cnt  \n",
       "0   985  \n",
       "1   801  \n",
       "2  1349  \n",
       "3  1562  \n",
       "4  1600  "
      ]
     },
     "execution_count": 3,
     "metadata": {},
     "output_type": "execute_result"
    }
   ],
   "source": [
    "day_df=pd.read_csv(\"dashboard/day.csv\")\n",
    "day_df.head()"
   ]
  },
  {
   "cell_type": "markdown",
   "id": "17d95231-690a-4edd-82c1-bccfc5e37f10",
   "metadata": {},
   "source": [
    "**Insight:**\n",
    "- Berdasarkan hasil diatas, diperoleh data kolom dan baris awal yang dimiliki oleh file day.csv"
   ]
  },
  {
   "cell_type": "markdown",
   "id": "8b0ef6e1-f2e3-4a67-8ca1-6d6e5da579a6",
   "metadata": {},
   "source": [
    "#### Load hour table"
   ]
  },
  {
   "cell_type": "code",
   "execution_count": 4,
   "id": "2ebb9ad3-4dd9-4895-a2d7-ab4d78e05622",
   "metadata": {},
   "outputs": [
    {
     "data": {
      "text/html": [
       "<div>\n",
       "<style scoped>\n",
       "    .dataframe tbody tr th:only-of-type {\n",
       "        vertical-align: middle;\n",
       "    }\n",
       "\n",
       "    .dataframe tbody tr th {\n",
       "        vertical-align: top;\n",
       "    }\n",
       "\n",
       "    .dataframe thead th {\n",
       "        text-align: right;\n",
       "    }\n",
       "</style>\n",
       "<table border=\"1\" class=\"dataframe\">\n",
       "  <thead>\n",
       "    <tr style=\"text-align: right;\">\n",
       "      <th></th>\n",
       "      <th>instant</th>\n",
       "      <th>dteday</th>\n",
       "      <th>season</th>\n",
       "      <th>yr</th>\n",
       "      <th>mnth</th>\n",
       "      <th>hr</th>\n",
       "      <th>holiday</th>\n",
       "      <th>weekday</th>\n",
       "      <th>workingday</th>\n",
       "      <th>weathersit</th>\n",
       "      <th>temp</th>\n",
       "      <th>atemp</th>\n",
       "      <th>hum</th>\n",
       "      <th>windspeed</th>\n",
       "      <th>casual</th>\n",
       "      <th>registered</th>\n",
       "      <th>cnt</th>\n",
       "    </tr>\n",
       "  </thead>\n",
       "  <tbody>\n",
       "    <tr>\n",
       "      <th>0</th>\n",
       "      <td>1</td>\n",
       "      <td>2011-01-01</td>\n",
       "      <td>1</td>\n",
       "      <td>0</td>\n",
       "      <td>1</td>\n",
       "      <td>0</td>\n",
       "      <td>0</td>\n",
       "      <td>6</td>\n",
       "      <td>0</td>\n",
       "      <td>1</td>\n",
       "      <td>0.24</td>\n",
       "      <td>0.2879</td>\n",
       "      <td>0.81</td>\n",
       "      <td>0.0</td>\n",
       "      <td>3</td>\n",
       "      <td>13</td>\n",
       "      <td>16</td>\n",
       "    </tr>\n",
       "    <tr>\n",
       "      <th>1</th>\n",
       "      <td>2</td>\n",
       "      <td>2011-01-01</td>\n",
       "      <td>1</td>\n",
       "      <td>0</td>\n",
       "      <td>1</td>\n",
       "      <td>1</td>\n",
       "      <td>0</td>\n",
       "      <td>6</td>\n",
       "      <td>0</td>\n",
       "      <td>1</td>\n",
       "      <td>0.22</td>\n",
       "      <td>0.2727</td>\n",
       "      <td>0.80</td>\n",
       "      <td>0.0</td>\n",
       "      <td>8</td>\n",
       "      <td>32</td>\n",
       "      <td>40</td>\n",
       "    </tr>\n",
       "    <tr>\n",
       "      <th>2</th>\n",
       "      <td>3</td>\n",
       "      <td>2011-01-01</td>\n",
       "      <td>1</td>\n",
       "      <td>0</td>\n",
       "      <td>1</td>\n",
       "      <td>2</td>\n",
       "      <td>0</td>\n",
       "      <td>6</td>\n",
       "      <td>0</td>\n",
       "      <td>1</td>\n",
       "      <td>0.22</td>\n",
       "      <td>0.2727</td>\n",
       "      <td>0.80</td>\n",
       "      <td>0.0</td>\n",
       "      <td>5</td>\n",
       "      <td>27</td>\n",
       "      <td>32</td>\n",
       "    </tr>\n",
       "    <tr>\n",
       "      <th>3</th>\n",
       "      <td>4</td>\n",
       "      <td>2011-01-01</td>\n",
       "      <td>1</td>\n",
       "      <td>0</td>\n",
       "      <td>1</td>\n",
       "      <td>3</td>\n",
       "      <td>0</td>\n",
       "      <td>6</td>\n",
       "      <td>0</td>\n",
       "      <td>1</td>\n",
       "      <td>0.24</td>\n",
       "      <td>0.2879</td>\n",
       "      <td>0.75</td>\n",
       "      <td>0.0</td>\n",
       "      <td>3</td>\n",
       "      <td>10</td>\n",
       "      <td>13</td>\n",
       "    </tr>\n",
       "    <tr>\n",
       "      <th>4</th>\n",
       "      <td>5</td>\n",
       "      <td>2011-01-01</td>\n",
       "      <td>1</td>\n",
       "      <td>0</td>\n",
       "      <td>1</td>\n",
       "      <td>4</td>\n",
       "      <td>0</td>\n",
       "      <td>6</td>\n",
       "      <td>0</td>\n",
       "      <td>1</td>\n",
       "      <td>0.24</td>\n",
       "      <td>0.2879</td>\n",
       "      <td>0.75</td>\n",
       "      <td>0.0</td>\n",
       "      <td>0</td>\n",
       "      <td>1</td>\n",
       "      <td>1</td>\n",
       "    </tr>\n",
       "  </tbody>\n",
       "</table>\n",
       "</div>"
      ],
      "text/plain": [
       "   instant      dteday  season  yr  mnth  hr  holiday  weekday  workingday  \\\n",
       "0        1  2011-01-01       1   0     1   0        0        6           0   \n",
       "1        2  2011-01-01       1   0     1   1        0        6           0   \n",
       "2        3  2011-01-01       1   0     1   2        0        6           0   \n",
       "3        4  2011-01-01       1   0     1   3        0        6           0   \n",
       "4        5  2011-01-01       1   0     1   4        0        6           0   \n",
       "\n",
       "   weathersit  temp   atemp   hum  windspeed  casual  registered  cnt  \n",
       "0           1  0.24  0.2879  0.81        0.0       3          13   16  \n",
       "1           1  0.22  0.2727  0.80        0.0       8          32   40  \n",
       "2           1  0.22  0.2727  0.80        0.0       5          27   32  \n",
       "3           1  0.24  0.2879  0.75        0.0       3          10   13  \n",
       "4           1  0.24  0.2879  0.75        0.0       0           1    1  "
      ]
     },
     "execution_count": 4,
     "metadata": {},
     "output_type": "execute_result"
    }
   ],
   "source": [
    "hour_df=pd.read_csv(\"dashboard/hour.csv\")\n",
    "hour_df.head()"
   ]
  },
  {
   "cell_type": "markdown",
   "id": "531312c3-9daa-4fb0-b7b8-1aece8e1206d",
   "metadata": {},
   "source": [
    "**Insight:**\n",
    "- Berdasarkan hasil diatas, diperoleh data kolom dan 5 baris awal yang dimiliki oleh file hour.csv"
   ]
  },
  {
   "cell_type": "markdown",
   "id": "299159b8-c9aa-404c-b1eb-15f072e2c716",
   "metadata": {},
   "source": [
    "### Assessing Data"
   ]
  },
  {
   "cell_type": "markdown",
   "id": "81d6c26c-fcc0-4df9-bae1-0585a893f3f6",
   "metadata": {},
   "source": [
    "#### Menilai Data day_df"
   ]
  },
  {
   "cell_type": "code",
   "execution_count": 5,
   "id": "bc3c480d-afaa-484a-a803-664fc727187f",
   "metadata": {},
   "outputs": [
    {
     "name": "stdout",
     "output_type": "stream",
     "text": [
      "<class 'pandas.core.frame.DataFrame'>\n",
      "RangeIndex: 731 entries, 0 to 730\n",
      "Data columns (total 16 columns):\n",
      " #   Column      Non-Null Count  Dtype  \n",
      "---  ------      --------------  -----  \n",
      " 0   instant     731 non-null    int64  \n",
      " 1   dteday      731 non-null    object \n",
      " 2   season      731 non-null    int64  \n",
      " 3   yr          731 non-null    int64  \n",
      " 4   mnth        731 non-null    int64  \n",
      " 5   holiday     731 non-null    int64  \n",
      " 6   weekday     731 non-null    int64  \n",
      " 7   workingday  731 non-null    int64  \n",
      " 8   weathersit  731 non-null    int64  \n",
      " 9   temp        731 non-null    float64\n",
      " 10  atemp       731 non-null    float64\n",
      " 11  hum         731 non-null    float64\n",
      " 12  windspeed   731 non-null    float64\n",
      " 13  casual      731 non-null    int64  \n",
      " 14  registered  731 non-null    int64  \n",
      " 15  cnt         731 non-null    int64  \n",
      "dtypes: float64(4), int64(11), object(1)\n",
      "memory usage: 91.5+ KB\n"
     ]
    }
   ],
   "source": [
    "day_df.info()"
   ]
  },
  {
   "cell_type": "markdown",
   "id": "4fb9e607-28ef-4fe5-8b69-319cfcea9e38",
   "metadata": {},
   "source": [
    "**Insight:**\n",
    "- Berdasarkan hasil diatas, ditemukan kesalahan tipe data pada kolom dteday. Kolom tersebut harusnya direpresentasikan sebagai tipe data datetime, bukan object (ini digunakan untuk tipe data string). "
   ]
  },
  {
   "cell_type": "markdown",
   "id": "8f5593a8-8cee-42bd-80c8-4733dfc9fd16",
   "metadata": {},
   "source": [
    "##### Memeriksa duplikasi pada tabel day"
   ]
  },
  {
   "cell_type": "code",
   "execution_count": 6,
   "id": "8c37e1e1-ac9f-4f6d-ac45-59472f41a944",
   "metadata": {},
   "outputs": [
    {
     "name": "stdout",
     "output_type": "stream",
     "text": [
      "Jumlah duplikasi:  0\n"
     ]
    }
   ],
   "source": [
    "print(\"Jumlah duplikasi: \", day_df.duplicated().sum())"
   ]
  },
  {
   "cell_type": "markdown",
   "id": "4bbb3bb3",
   "metadata": {},
   "source": [
    "**Insight:**\n",
    "- Berdasarkan hasil diatas, tidak ditemukan nilai duplikasi pada data day_df sehingga seluruh nilai dari tiap kolom aman untuk diolah."
   ]
  },
  {
   "cell_type": "markdown",
   "id": "2d157f5b-5ecc-4be9-bfb6-fb260e1185e0",
   "metadata": {},
   "source": [
    "#### Menilai Data hour_df"
   ]
  },
  {
   "cell_type": "code",
   "execution_count": 7,
   "id": "a3fdb9f2-7922-4a18-9373-911bf0c95700",
   "metadata": {},
   "outputs": [
    {
     "name": "stdout",
     "output_type": "stream",
     "text": [
      "<class 'pandas.core.frame.DataFrame'>\n",
      "RangeIndex: 17379 entries, 0 to 17378\n",
      "Data columns (total 17 columns):\n",
      " #   Column      Non-Null Count  Dtype  \n",
      "---  ------      --------------  -----  \n",
      " 0   instant     17379 non-null  int64  \n",
      " 1   dteday      17379 non-null  object \n",
      " 2   season      17379 non-null  int64  \n",
      " 3   yr          17379 non-null  int64  \n",
      " 4   mnth        17379 non-null  int64  \n",
      " 5   hr          17379 non-null  int64  \n",
      " 6   holiday     17379 non-null  int64  \n",
      " 7   weekday     17379 non-null  int64  \n",
      " 8   workingday  17379 non-null  int64  \n",
      " 9   weathersit  17379 non-null  int64  \n",
      " 10  temp        17379 non-null  float64\n",
      " 11  atemp       17379 non-null  float64\n",
      " 12  hum         17379 non-null  float64\n",
      " 13  windspeed   17379 non-null  float64\n",
      " 14  casual      17379 non-null  int64  \n",
      " 15  registered  17379 non-null  int64  \n",
      " 16  cnt         17379 non-null  int64  \n",
      "dtypes: float64(4), int64(12), object(1)\n",
      "memory usage: 2.3+ MB\n"
     ]
    }
   ],
   "source": [
    "hour_df.info()"
   ]
  },
  {
   "cell_type": "markdown",
   "id": "3f48dbb3-d4a8-4c92-bbac-3a4f279c2a2b",
   "metadata": {},
   "source": [
    "**Insight:**\n",
    "- Berdasarkan hasil diatas, ditemukan kesalahan tipe data pada kolom dteday. Kolom tersebut harusnya direpresentasikan sebagai tipe data datetime, bukan object (ini digunakan untuk tipe data string). "
   ]
  },
  {
   "cell_type": "markdown",
   "id": "711fdc66-9d2c-42ba-baa3-3b56d313b8a5",
   "metadata": {},
   "source": [
    "##### Memeriksa duplikasi pada tabel hour"
   ]
  },
  {
   "cell_type": "code",
   "execution_count": 8,
   "id": "3262518c-7582-4192-a481-5e5b3ffe05b7",
   "metadata": {},
   "outputs": [
    {
     "name": "stdout",
     "output_type": "stream",
     "text": [
      "Jumlah duplikasi:  0\n"
     ]
    }
   ],
   "source": [
    "print(\"Jumlah duplikasi: \", hour_df.duplicated().sum())"
   ]
  },
  {
   "cell_type": "markdown",
   "id": "25e13be3",
   "metadata": {},
   "source": [
    "**Insight:**\n",
    "- Berdasarkan hasil diatas, tidak ditemukan nilai duplikasi pada data hour_df sehingga seluruh nilai dari tiap kolom aman untuk diolah."
   ]
  },
  {
   "cell_type": "markdown",
   "id": "afe45049-ceab-4f30-a7d7-771bff7ecb2b",
   "metadata": {},
   "source": [
    "### Cleaning Data"
   ]
  },
  {
   "cell_type": "markdown",
   "id": "e0b28867-6dc6-48a9-bb17-26ad41551fa8",
   "metadata": {},
   "source": [
    "Pada proses assessing data, ditemukan kesalahan yang sama pada data day_df dan hour_df. Kesalahan yang ditemukan adalah tipe data pada kolom dteday yang didefinisikan sebagai object. Data yang disimpan oleh kolom dteday adalah data tanggal, oleh karena itu tipe data yang seharusnya dimiliki oleh kolom dteday adalah datetime.\n",
    "\n",
    "Pada proses cleaning data ini akan dilakukan perubahan tipe data kolom dteday yang dimiliki oleh data dari day_df dan hour_df."
   ]
  },
  {
   "cell_type": "markdown",
   "id": "231c9214-9ba0-4277-813e-003574fdc126",
   "metadata": {},
   "source": [
    "#### Clean day_df data"
   ]
  },
  {
   "cell_type": "markdown",
   "id": "2a282c60-3498-4c24-ad03-b8ab92ad54a7",
   "metadata": {},
   "source": [
    "##### Menangani salah tipe data pada kolom dteday pada day_df"
   ]
  },
  {
   "cell_type": "code",
   "execution_count": 9,
   "id": "09da7003-9680-4ed0-a1f4-4cc4ac0722a7",
   "metadata": {},
   "outputs": [
    {
     "name": "stdout",
     "output_type": "stream",
     "text": [
      "<class 'pandas.core.frame.DataFrame'>\n",
      "RangeIndex: 731 entries, 0 to 730\n",
      "Data columns (total 16 columns):\n",
      " #   Column      Non-Null Count  Dtype         \n",
      "---  ------      --------------  -----         \n",
      " 0   instant     731 non-null    int64         \n",
      " 1   dteday      731 non-null    datetime64[ns]\n",
      " 2   season      731 non-null    int64         \n",
      " 3   yr          731 non-null    int64         \n",
      " 4   mnth        731 non-null    int64         \n",
      " 5   holiday     731 non-null    int64         \n",
      " 6   weekday     731 non-null    int64         \n",
      " 7   workingday  731 non-null    int64         \n",
      " 8   weathersit  731 non-null    int64         \n",
      " 9   temp        731 non-null    float64       \n",
      " 10  atemp       731 non-null    float64       \n",
      " 11  hum         731 non-null    float64       \n",
      " 12  windspeed   731 non-null    float64       \n",
      " 13  casual      731 non-null    int64         \n",
      " 14  registered  731 non-null    int64         \n",
      " 15  cnt         731 non-null    int64         \n",
      "dtypes: datetime64[ns](1), float64(4), int64(11)\n",
      "memory usage: 91.5 KB\n"
     ]
    }
   ],
   "source": [
    "datetime_columns = [\"dteday\"]\n",
    "for column in datetime_columns:\n",
    "  day_df[column] = pd.to_datetime(day_df[column])\n",
    "  \n",
    "day_df.info()"
   ]
  },
  {
   "cell_type": "markdown",
   "id": "5fcf5f66-c796-403c-a869-52a784686c7e",
   "metadata": {},
   "source": [
    "**Insight:**\n",
    "\n",
    "Berdasarkan hasil yang diperoleh, tipe data pada kolom dteday yang sebelumnya adalah object berhasil diubah ke tipe data yang seharusnya yaitu datetime"
   ]
  },
  {
   "cell_type": "markdown",
   "id": "6d87240c-f7a2-4161-a920-06826936e48b",
   "metadata": {},
   "source": [
    "##### Menangani salah tipe data pada kolom dteday pada hour_df"
   ]
  },
  {
   "cell_type": "code",
   "execution_count": 10,
   "id": "f88144c1-e5b9-4776-8621-f80181f869e7",
   "metadata": {},
   "outputs": [
    {
     "name": "stdout",
     "output_type": "stream",
     "text": [
      "<class 'pandas.core.frame.DataFrame'>\n",
      "RangeIndex: 17379 entries, 0 to 17378\n",
      "Data columns (total 17 columns):\n",
      " #   Column      Non-Null Count  Dtype         \n",
      "---  ------      --------------  -----         \n",
      " 0   instant     17379 non-null  int64         \n",
      " 1   dteday      17379 non-null  datetime64[ns]\n",
      " 2   season      17379 non-null  int64         \n",
      " 3   yr          17379 non-null  int64         \n",
      " 4   mnth        17379 non-null  int64         \n",
      " 5   hr          17379 non-null  int64         \n",
      " 6   holiday     17379 non-null  int64         \n",
      " 7   weekday     17379 non-null  int64         \n",
      " 8   workingday  17379 non-null  int64         \n",
      " 9   weathersit  17379 non-null  int64         \n",
      " 10  temp        17379 non-null  float64       \n",
      " 11  atemp       17379 non-null  float64       \n",
      " 12  hum         17379 non-null  float64       \n",
      " 13  windspeed   17379 non-null  float64       \n",
      " 14  casual      17379 non-null  int64         \n",
      " 15  registered  17379 non-null  int64         \n",
      " 16  cnt         17379 non-null  int64         \n",
      "dtypes: datetime64[ns](1), float64(4), int64(12)\n",
      "memory usage: 2.3 MB\n"
     ]
    }
   ],
   "source": [
    "datetime2_columns = [\"dteday\"]\n",
    "for column in datetime2_columns:\n",
    "  hour_df[column] = pd.to_datetime(hour_df[column])\n",
    "  \n",
    "hour_df.info()"
   ]
  },
  {
   "cell_type": "markdown",
   "id": "c656e54d-7b79-44c1-90ee-fab6a7de6963",
   "metadata": {},
   "source": [
    "**Insight:**\n",
    "\n",
    "Berdasarkan hasil yang diperoleh, tipe data pada kolom dteday yang sebelumnya adalah object berhasil diubah ke tipe data yang seharusnya yaitu datetime"
   ]
  },
  {
   "cell_type": "markdown",
   "id": "b8f7af80-4e26-4930-9bcb-b47348c0f86d",
   "metadata": {},
   "source": [
    "## Exploratory Data Analysis (EDA)"
   ]
  },
  {
   "cell_type": "markdown",
   "id": "1d65eba6-6705-4c58-bb1c-0afaad69dc34",
   "metadata": {},
   "source": [
    "### Explore day_df data"
   ]
  },
  {
   "cell_type": "code",
   "execution_count": 11,
   "id": "425e3fbf-dbde-4b62-9f8a-ee0e04438585",
   "metadata": {},
   "outputs": [
    {
     "data": {
      "text/html": [
       "<div>\n",
       "<style scoped>\n",
       "    .dataframe tbody tr th:only-of-type {\n",
       "        vertical-align: middle;\n",
       "    }\n",
       "\n",
       "    .dataframe tbody tr th {\n",
       "        vertical-align: top;\n",
       "    }\n",
       "\n",
       "    .dataframe thead th {\n",
       "        text-align: right;\n",
       "    }\n",
       "</style>\n",
       "<table border=\"1\" class=\"dataframe\">\n",
       "  <thead>\n",
       "    <tr style=\"text-align: right;\">\n",
       "      <th></th>\n",
       "      <th>instant</th>\n",
       "      <th>dteday</th>\n",
       "      <th>season</th>\n",
       "      <th>yr</th>\n",
       "      <th>mnth</th>\n",
       "      <th>holiday</th>\n",
       "      <th>weekday</th>\n",
       "      <th>workingday</th>\n",
       "      <th>weathersit</th>\n",
       "      <th>temp</th>\n",
       "      <th>atemp</th>\n",
       "      <th>hum</th>\n",
       "      <th>windspeed</th>\n",
       "      <th>casual</th>\n",
       "      <th>registered</th>\n",
       "      <th>cnt</th>\n",
       "    </tr>\n",
       "  </thead>\n",
       "  <tbody>\n",
       "    <tr>\n",
       "      <th>count</th>\n",
       "      <td>731.000000</td>\n",
       "      <td>731</td>\n",
       "      <td>731.000000</td>\n",
       "      <td>731.000000</td>\n",
       "      <td>731.000000</td>\n",
       "      <td>731.000000</td>\n",
       "      <td>731.000000</td>\n",
       "      <td>731.000000</td>\n",
       "      <td>731.000000</td>\n",
       "      <td>731.000000</td>\n",
       "      <td>731.000000</td>\n",
       "      <td>731.000000</td>\n",
       "      <td>731.000000</td>\n",
       "      <td>731.000000</td>\n",
       "      <td>731.000000</td>\n",
       "      <td>731.000000</td>\n",
       "    </tr>\n",
       "    <tr>\n",
       "      <th>mean</th>\n",
       "      <td>366.000000</td>\n",
       "      <td>2012-01-01 00:00:00</td>\n",
       "      <td>2.496580</td>\n",
       "      <td>0.500684</td>\n",
       "      <td>6.519836</td>\n",
       "      <td>0.028728</td>\n",
       "      <td>2.997264</td>\n",
       "      <td>0.683995</td>\n",
       "      <td>1.395349</td>\n",
       "      <td>0.495385</td>\n",
       "      <td>0.474354</td>\n",
       "      <td>0.627894</td>\n",
       "      <td>0.190486</td>\n",
       "      <td>848.176471</td>\n",
       "      <td>3656.172367</td>\n",
       "      <td>4504.348837</td>\n",
       "    </tr>\n",
       "    <tr>\n",
       "      <th>min</th>\n",
       "      <td>1.000000</td>\n",
       "      <td>2011-01-01 00:00:00</td>\n",
       "      <td>1.000000</td>\n",
       "      <td>0.000000</td>\n",
       "      <td>1.000000</td>\n",
       "      <td>0.000000</td>\n",
       "      <td>0.000000</td>\n",
       "      <td>0.000000</td>\n",
       "      <td>1.000000</td>\n",
       "      <td>0.059130</td>\n",
       "      <td>0.079070</td>\n",
       "      <td>0.000000</td>\n",
       "      <td>0.022392</td>\n",
       "      <td>2.000000</td>\n",
       "      <td>20.000000</td>\n",
       "      <td>22.000000</td>\n",
       "    </tr>\n",
       "    <tr>\n",
       "      <th>25%</th>\n",
       "      <td>183.500000</td>\n",
       "      <td>2011-07-02 12:00:00</td>\n",
       "      <td>2.000000</td>\n",
       "      <td>0.000000</td>\n",
       "      <td>4.000000</td>\n",
       "      <td>0.000000</td>\n",
       "      <td>1.000000</td>\n",
       "      <td>0.000000</td>\n",
       "      <td>1.000000</td>\n",
       "      <td>0.337083</td>\n",
       "      <td>0.337842</td>\n",
       "      <td>0.520000</td>\n",
       "      <td>0.134950</td>\n",
       "      <td>315.500000</td>\n",
       "      <td>2497.000000</td>\n",
       "      <td>3152.000000</td>\n",
       "    </tr>\n",
       "    <tr>\n",
       "      <th>50%</th>\n",
       "      <td>366.000000</td>\n",
       "      <td>2012-01-01 00:00:00</td>\n",
       "      <td>3.000000</td>\n",
       "      <td>1.000000</td>\n",
       "      <td>7.000000</td>\n",
       "      <td>0.000000</td>\n",
       "      <td>3.000000</td>\n",
       "      <td>1.000000</td>\n",
       "      <td>1.000000</td>\n",
       "      <td>0.498333</td>\n",
       "      <td>0.486733</td>\n",
       "      <td>0.626667</td>\n",
       "      <td>0.180975</td>\n",
       "      <td>713.000000</td>\n",
       "      <td>3662.000000</td>\n",
       "      <td>4548.000000</td>\n",
       "    </tr>\n",
       "    <tr>\n",
       "      <th>75%</th>\n",
       "      <td>548.500000</td>\n",
       "      <td>2012-07-01 12:00:00</td>\n",
       "      <td>3.000000</td>\n",
       "      <td>1.000000</td>\n",
       "      <td>10.000000</td>\n",
       "      <td>0.000000</td>\n",
       "      <td>5.000000</td>\n",
       "      <td>1.000000</td>\n",
       "      <td>2.000000</td>\n",
       "      <td>0.655417</td>\n",
       "      <td>0.608602</td>\n",
       "      <td>0.730209</td>\n",
       "      <td>0.233214</td>\n",
       "      <td>1096.000000</td>\n",
       "      <td>4776.500000</td>\n",
       "      <td>5956.000000</td>\n",
       "    </tr>\n",
       "    <tr>\n",
       "      <th>max</th>\n",
       "      <td>731.000000</td>\n",
       "      <td>2012-12-31 00:00:00</td>\n",
       "      <td>4.000000</td>\n",
       "      <td>1.000000</td>\n",
       "      <td>12.000000</td>\n",
       "      <td>1.000000</td>\n",
       "      <td>6.000000</td>\n",
       "      <td>1.000000</td>\n",
       "      <td>3.000000</td>\n",
       "      <td>0.861667</td>\n",
       "      <td>0.840896</td>\n",
       "      <td>0.972500</td>\n",
       "      <td>0.507463</td>\n",
       "      <td>3410.000000</td>\n",
       "      <td>6946.000000</td>\n",
       "      <td>8714.000000</td>\n",
       "    </tr>\n",
       "    <tr>\n",
       "      <th>std</th>\n",
       "      <td>211.165812</td>\n",
       "      <td>NaN</td>\n",
       "      <td>1.110807</td>\n",
       "      <td>0.500342</td>\n",
       "      <td>3.451913</td>\n",
       "      <td>0.167155</td>\n",
       "      <td>2.004787</td>\n",
       "      <td>0.465233</td>\n",
       "      <td>0.544894</td>\n",
       "      <td>0.183051</td>\n",
       "      <td>0.162961</td>\n",
       "      <td>0.142429</td>\n",
       "      <td>0.077498</td>\n",
       "      <td>686.622488</td>\n",
       "      <td>1560.256377</td>\n",
       "      <td>1937.211452</td>\n",
       "    </tr>\n",
       "  </tbody>\n",
       "</table>\n",
       "</div>"
      ],
      "text/plain": [
       "          instant               dteday      season          yr        mnth  \\\n",
       "count  731.000000                  731  731.000000  731.000000  731.000000   \n",
       "mean   366.000000  2012-01-01 00:00:00    2.496580    0.500684    6.519836   \n",
       "min      1.000000  2011-01-01 00:00:00    1.000000    0.000000    1.000000   \n",
       "25%    183.500000  2011-07-02 12:00:00    2.000000    0.000000    4.000000   \n",
       "50%    366.000000  2012-01-01 00:00:00    3.000000    1.000000    7.000000   \n",
       "75%    548.500000  2012-07-01 12:00:00    3.000000    1.000000   10.000000   \n",
       "max    731.000000  2012-12-31 00:00:00    4.000000    1.000000   12.000000   \n",
       "std    211.165812                  NaN    1.110807    0.500342    3.451913   \n",
       "\n",
       "          holiday     weekday  workingday  weathersit        temp       atemp  \\\n",
       "count  731.000000  731.000000  731.000000  731.000000  731.000000  731.000000   \n",
       "mean     0.028728    2.997264    0.683995    1.395349    0.495385    0.474354   \n",
       "min      0.000000    0.000000    0.000000    1.000000    0.059130    0.079070   \n",
       "25%      0.000000    1.000000    0.000000    1.000000    0.337083    0.337842   \n",
       "50%      0.000000    3.000000    1.000000    1.000000    0.498333    0.486733   \n",
       "75%      0.000000    5.000000    1.000000    2.000000    0.655417    0.608602   \n",
       "max      1.000000    6.000000    1.000000    3.000000    0.861667    0.840896   \n",
       "std      0.167155    2.004787    0.465233    0.544894    0.183051    0.162961   \n",
       "\n",
       "              hum   windspeed       casual   registered          cnt  \n",
       "count  731.000000  731.000000   731.000000   731.000000   731.000000  \n",
       "mean     0.627894    0.190486   848.176471  3656.172367  4504.348837  \n",
       "min      0.000000    0.022392     2.000000    20.000000    22.000000  \n",
       "25%      0.520000    0.134950   315.500000  2497.000000  3152.000000  \n",
       "50%      0.626667    0.180975   713.000000  3662.000000  4548.000000  \n",
       "75%      0.730209    0.233214  1096.000000  4776.500000  5956.000000  \n",
       "max      0.972500    0.507463  3410.000000  6946.000000  8714.000000  \n",
       "std      0.142429    0.077498   686.622488  1560.256377  1937.211452  "
      ]
     },
     "execution_count": 11,
     "metadata": {},
     "output_type": "execute_result"
    }
   ],
   "source": [
    "day_df.describe(include=\"all\")"
   ]
  },
  {
   "cell_type": "markdown",
   "id": "c2ee3bfb-c2f3-4c8f-82f0-a50fce9ea0cb",
   "metadata": {},
   "source": [
    "**Insight:**\n",
    "\n",
    "- Berdasarkan rangkuman parameter statistik diatas, diperoleh jumlah penyewaan sepeda paling sedikit adalah 22 sepeda dan yang terbanyak adalah 8.714 sepeda dalam satu harinya. Pada penyewa casual, per harinya paling rendah adalah 2 sepeda dan 3.410 adalah jumlah penyewaan sepeda tertingginya. Sedangkan, pada penyewa registered, jumlah penyewaan sepeda paling sedikit adalah 20 sepeda dan jumlah terbanyak adalah 6946 sepeda dalam satu harinya."
   ]
  },
  {
   "cell_type": "markdown",
   "id": "f4b4c1ed",
   "metadata": {},
   "source": [
    "##### Total Bike Rentals"
   ]
  },
  {
   "cell_type": "code",
   "execution_count": 12,
   "id": "d759f355-cca8-44e4-8362-c2f8bf21a32b",
   "metadata": {},
   "outputs": [
    {
     "name": "stdout",
     "output_type": "stream",
     "text": [
      "Total Sewa Registered Users: 2672662\n",
      "Total Sewa Casual Users: 620017\n",
      "Total Sewa All Users: 3292679\n"
     ]
    }
   ],
   "source": [
    "total_casual = day_df['casual'].sum()\n",
    "total_registered = day_df['registered'].sum()\n",
    "total_all=total_casual+total_registered\n",
    "print(\"Total Sewa Registered Users:\", total_registered)\n",
    "print(\"Total Sewa Casual Users:\", total_casual)\n",
    "print(\"Total Sewa All Users:\", total_all)"
   ]
  },
  {
   "cell_type": "markdown",
   "id": "7d62d4cf-f3c6-4b41-b7aa-e3081847b828",
   "metadata": {},
   "source": [
    "**Insight:**\n",
    "- Berdasarkan hasil diatas didapatkan total dari seluruh penyewaan sepeda selama tahun 2011-2012 yang tidak terdaftar adalah sebanyak 620.017 sepeda dan yang terdaftar sebanyak 2.672.662 sepeda. Total dari keseluruhan jumlah penyewa pada tahun 2011-2012 adalah 3.292.679 sepeda."
   ]
  },
  {
   "cell_type": "markdown",
   "id": "040a693e",
   "metadata": {},
   "source": [
    "##### Total Bike Rentals by Membership Per Tahunnya"
   ]
  },
  {
   "cell_type": "code",
   "execution_count": 13,
   "id": "0c02c1ce",
   "metadata": {},
   "outputs": [
    {
     "data": {
      "text/html": [
       "<div>\n",
       "<style scoped>\n",
       "    .dataframe tbody tr th:only-of-type {\n",
       "        vertical-align: middle;\n",
       "    }\n",
       "\n",
       "    .dataframe tbody tr th {\n",
       "        vertical-align: top;\n",
       "    }\n",
       "\n",
       "    .dataframe thead th {\n",
       "        text-align: right;\n",
       "    }\n",
       "</style>\n",
       "<table border=\"1\" class=\"dataframe\">\n",
       "  <thead>\n",
       "    <tr style=\"text-align: right;\">\n",
       "      <th></th>\n",
       "      <th>registered</th>\n",
       "      <th>casual</th>\n",
       "      <th>cnt</th>\n",
       "    </tr>\n",
       "    <tr>\n",
       "      <th>year</th>\n",
       "      <th></th>\n",
       "      <th></th>\n",
       "      <th></th>\n",
       "    </tr>\n",
       "  </thead>\n",
       "  <tbody>\n",
       "    <tr>\n",
       "      <th>2011</th>\n",
       "      <td>995851</td>\n",
       "      <td>247252</td>\n",
       "      <td>1243103</td>\n",
       "    </tr>\n",
       "    <tr>\n",
       "      <th>2012</th>\n",
       "      <td>1676811</td>\n",
       "      <td>372765</td>\n",
       "      <td>2049576</td>\n",
       "    </tr>\n",
       "  </tbody>\n",
       "</table>\n",
       "</div>"
      ],
      "text/plain": [
       "      registered  casual      cnt\n",
       "year                             \n",
       "2011      995851  247252  1243103\n",
       "2012     1676811  372765  2049576"
      ]
     },
     "execution_count": 13,
     "metadata": {},
     "output_type": "execute_result"
    }
   ],
   "source": [
    "day_df['year'] = day_df['dteday'].dt.year\n",
    "yearly_rentals = day_df.groupby(['year'])['cnt'].sum().reset_index()\n",
    "day_df.groupby(by=\"year\").agg({\n",
    "    \"registered\":\"sum\",\n",
    "    \"casual\":\"sum\",\n",
    "    \"cnt\": \"sum\"\n",
    "})"
   ]
  },
  {
   "cell_type": "markdown",
   "id": "e003289b",
   "metadata": {},
   "source": [
    "**Insight:**\n",
    "- Berdasarkan hasil diatas, diperoleh data jumlah seluruh sepeda yang dirental per tahunnya dan jumlah sepeda berdasarkan status keanggotaannya.\n",
    "- Pada tahun 2011 dan 2012 didapatkan hasil dimana jumlah sepeda yang disewa dengan status keanggotaan registered lebih banyak dibandingkan dengan status keanggotaan casual. \n",
    "- Dalam periode waktu satu tahun, jumlah penyewaan sepeda cukup meningkat dibandingkan dengan tahun sebelumnya. Ini menunjukkan adanya peningkatan yang konsisten dalam jumlah pengguna layanan penyewaan sepeda"
   ]
  },
  {
   "cell_type": "markdown",
   "id": "3f440848",
   "metadata": {},
   "source": [
    "##### Total Bike Rentals Tertinggi\n",
    "\n",
    "Mencari pada jumlah penyewaan tertinggi per bulan pada tahun 2011 dan 2012"
   ]
  },
  {
   "cell_type": "code",
   "execution_count": 14,
   "id": "b2278d0b",
   "metadata": {},
   "outputs": [
    {
     "name": "stdout",
     "output_type": "stream",
     "text": [
      "Bulan dengan jumlah penyewa tertinggi di 2011: Bulan June, dengan 143512 sepeda.\n",
      "Bulan dengan jumlah penyewa tertinggi di 2012: Bulan September, dengan 218573 sepeda.\n"
     ]
    }
   ],
   "source": [
    "day_df['year'] = day_df['dteday'].dt.year\n",
    "day_df['month'] = day_df['dteday'].dt.month\n",
    "monthly_rentals = day_df.groupby(['year', 'month'])['cnt'].sum().reset_index()\n",
    "\n",
    "monthly_rentals['month'] = monthly_rentals['month'].apply(lambda x: calendar.month_name[x])\n",
    "monthly_rentals['month'] = pd.Categorical(monthly_rentals['month'], categories=list(calendar.month_name[1:]), ordered=True)\n",
    "\n",
    "year_2011= monthly_rentals[monthly_rentals['year'] == 2011]\n",
    "highest_2011 = year_2011.loc[year_2011['cnt'].idxmax()]\n",
    "highest_bymonth_2011 = highest_2011['month']\n",
    "max_2011 = highest_2011['cnt']\n",
    "    \n",
    "year_2012= monthly_rentals[monthly_rentals['year'] == 2012]\n",
    "highest_2012 = year_2012.loc[year_2012['cnt'].idxmax()]\n",
    "highest_bymonth_2012 = highest_2012['month']\n",
    "max_2012 = highest_2012['cnt']\n",
    "\n",
    "print(f\"Bulan dengan jumlah penyewa tertinggi di 2011: Bulan {highest_bymonth_2011}, dengan {max_2011} sepeda.\")\n",
    "print(f\"Bulan dengan jumlah penyewa tertinggi di 2012: Bulan {highest_bymonth_2012}, dengan {max_2012} sepeda.\")"
   ]
  },
  {
   "cell_type": "markdown",
   "id": "218f03eb",
   "metadata": {},
   "source": [
    "**Insight:**\n",
    "- Berdasarkan hasil diatas diperoleh jumlah penyewaan tertinggi pada tahun 2011 adalah pada bulan Juni dengan jumlah penyewaan 143512 dan pada tahun 2012 penyewaan tertinggi jatuh pada bulan September dengan total penyewaan 218573."
   ]
  },
  {
   "cell_type": "markdown",
   "id": "2de87d45",
   "metadata": {},
   "source": [
    "##### Total Bike Rentals Per Bulannya"
   ]
  },
  {
   "cell_type": "code",
   "execution_count": 15,
   "id": "7882ba18-71a1-4689-9dd7-8c209bade4b4",
   "metadata": {},
   "outputs": [
    {
     "name": "stdout",
     "output_type": "stream",
     "text": [
      "    year  month     cnt\n",
      "0   2011      1   38189\n",
      "1   2011      2   48215\n",
      "2   2011      3   64045\n",
      "3   2011      4   94870\n",
      "4   2011      5  135821\n",
      "5   2011      6  143512\n",
      "6   2011      7  141341\n",
      "7   2011      8  136691\n",
      "8   2011      9  127418\n",
      "9   2011     10  123511\n",
      "10  2011     11  102167\n",
      "11  2011     12   87323\n",
      "12  2012      1   96744\n",
      "13  2012      2  103137\n",
      "14  2012      3  164875\n",
      "15  2012      4  174224\n",
      "16  2012      5  195865\n",
      "17  2012      6  202830\n",
      "18  2012      7  203607\n",
      "19  2012      8  214503\n",
      "20  2012      9  218573\n",
      "21  2012     10  198841\n",
      "22  2012     11  152664\n",
      "23  2012     12  123713\n"
     ]
    }
   ],
   "source": [
    "monthly_rentals = day_df.groupby(['year', 'month'])['cnt'].sum().reset_index()\n",
    "print(monthly_rentals)"
   ]
  },
  {
   "cell_type": "markdown",
   "id": "09de55bd",
   "metadata": {},
   "source": [
    "**Insight:**\n",
    "- Berdasarkan hasil diatas, diperoleh data jumlah seluruh sepeda yang dirental per bulannya. Didapatan bahwa terjadi penurunan pada beberapa bulan terakhir pada tiap tahunnya."
   ]
  },
  {
   "cell_type": "markdown",
   "id": "5602ad8b",
   "metadata": {},
   "source": [
    "##### Total Bike Rentals Berdasarkan Kondisi Cuaca"
   ]
  },
  {
   "cell_type": "code",
   "execution_count": 16,
   "id": "52bed30c",
   "metadata": {},
   "outputs": [
    {
     "data": {
      "text/html": [
       "<div>\n",
       "<style scoped>\n",
       "    .dataframe tbody tr th:only-of-type {\n",
       "        vertical-align: middle;\n",
       "    }\n",
       "\n",
       "    .dataframe tbody tr th {\n",
       "        vertical-align: top;\n",
       "    }\n",
       "\n",
       "    .dataframe thead tr th {\n",
       "        text-align: left;\n",
       "    }\n",
       "\n",
       "    .dataframe thead tr:last-of-type th {\n",
       "        text-align: right;\n",
       "    }\n",
       "</style>\n",
       "<table border=\"1\" class=\"dataframe\">\n",
       "  <thead>\n",
       "    <tr>\n",
       "      <th></th>\n",
       "      <th colspan=\"4\" halign=\"left\">cnt</th>\n",
       "    </tr>\n",
       "    <tr>\n",
       "      <th></th>\n",
       "      <th>max</th>\n",
       "      <th>min</th>\n",
       "      <th>mean</th>\n",
       "      <th>std</th>\n",
       "    </tr>\n",
       "    <tr>\n",
       "      <th>weather_desc</th>\n",
       "      <th></th>\n",
       "      <th></th>\n",
       "      <th></th>\n",
       "      <th></th>\n",
       "    </tr>\n",
       "  </thead>\n",
       "  <tbody>\n",
       "    <tr>\n",
       "      <th>Clear, Few clouds</th>\n",
       "      <td>8714</td>\n",
       "      <td>431</td>\n",
       "      <td>4876.786177</td>\n",
       "      <td>1879.483989</td>\n",
       "    </tr>\n",
       "    <tr>\n",
       "      <th>Light Snow, Light Rain</th>\n",
       "      <td>4639</td>\n",
       "      <td>22</td>\n",
       "      <td>1803.285714</td>\n",
       "      <td>1240.284449</td>\n",
       "    </tr>\n",
       "    <tr>\n",
       "      <th>Mist + Cloudy</th>\n",
       "      <td>8362</td>\n",
       "      <td>605</td>\n",
       "      <td>4035.862348</td>\n",
       "      <td>1809.109918</td>\n",
       "    </tr>\n",
       "  </tbody>\n",
       "</table>\n",
       "</div>"
      ],
      "text/plain": [
       "                         cnt                               \n",
       "                         max  min         mean          std\n",
       "weather_desc                                               \n",
       "Clear, Few clouds       8714  431  4876.786177  1879.483989\n",
       "Light Snow, Light Rain  4639   22  1803.285714  1240.284449\n",
       "Mist + Cloudy           8362  605  4035.862348  1809.109918"
      ]
     },
     "execution_count": 16,
     "metadata": {},
     "output_type": "execute_result"
    }
   ],
   "source": [
    "weather_conditions = {\n",
    "    1: 'Clear, Few clouds',\n",
    "    2: 'Mist + Cloudy',\n",
    "    3: 'Light Snow, Light Rain',\n",
    "    4: 'Heavy Rain, Ice Pallets'\n",
    "}\n",
    "\n",
    "day_df['weather_desc'] = day_df['weathersit'].map(weather_conditions)\n",
    "result = day_df.groupby(by=\"weather_desc\").agg({\n",
    "    \"cnt\": [\"max\", \"min\", \"mean\", \"std\"]\n",
    "})\n",
    "\n",
    "result"
   ]
  },
  {
   "cell_type": "markdown",
   "id": "7c053d27",
   "metadata": {},
   "source": [
    "**Insight:**\n",
    "- Berdasarkan kondisi cuaca per harinya, diperolah bahwa penyewaan tertinggi terjadi saat cuada cerah, sedikit berawan. Pada saat cuaca berkabut+berawan, jumlah penyewaan sepeda sedikit menurun. Sedangkan pada kondisi cuaca dengan gerimis, sedikit bersalju jumlah penyewaan mengalami penurunan drastis."
   ]
  },
  {
   "cell_type": "markdown",
   "id": "f59d8819",
   "metadata": {},
   "source": [
    "##### Total Bike Rentals Per Bulan Berdasarkan Kondisi Cuaca Tahun 2011 dan 2012"
   ]
  },
  {
   "cell_type": "code",
   "execution_count": 17,
   "id": "068a2dc2-a082-4134-ab56-8e8214adb952",
   "metadata": {},
   "outputs": [
    {
     "name": "stdout",
     "output_type": "stream",
     "text": [
      "Kondisi cuaca dengan penyewa terbanyak di tahun 2011:\n",
      "   month_name       weather_desc     cnt\n",
      "0     January  Clear, Few clouds   21004\n",
      "3    February  Clear, Few clouds   35190\n",
      "5       March  Clear, Few clouds   39703\n",
      "8       April  Clear, Few clouds   52392\n",
      "11        May  Clear, Few clouds   87599\n",
      "13       June  Clear, Few clouds  103863\n",
      "15       July  Clear, Few clouds  122825\n",
      "17     August  Clear, Few clouds  107467\n",
      "21  September      Mist + Cloudy   67364\n",
      "22    October  Clear, Few clouds   82959\n",
      "25   November  Clear, Few clouds   72751\n",
      "28   December  Clear, Few clouds   55808\n",
      "\n",
      "Kondisi cuaca dengan penyewa terbanyak di tahun 2012:\n",
      "   month_name       weather_desc     cnt\n",
      "31    January  Clear, Few clouds   66387\n",
      "33   February  Clear, Few clouds   69858\n",
      "36      March  Clear, Few clouds  100286\n",
      "38      April  Clear, Few clouds  144757\n",
      "41        May  Clear, Few clouds  123239\n",
      "43       June  Clear, Few clouds  174967\n",
      "45       July  Clear, Few clouds  158541\n",
      "48     August  Clear, Few clouds  143454\n",
      "50  September  Clear, Few clouds  168694\n",
      "52    October  Clear, Few clouds  104538\n",
      "55   November  Clear, Few clouds  111874\n",
      "59   December      Mist + Cloudy   66982\n"
     ]
    }
   ],
   "source": [
    "weather_conditions = {\n",
    "    1: 'Clear, Few clouds',\n",
    "    2: 'Mist + Cloudy',\n",
    "    3: 'Light Snow, Light Rain',\n",
    "    4: 'Heavy Rain, Ice Pallets'\n",
    "}\n",
    "\n",
    "day_df['weather_desc'] = day_df['weathersit'].map(weather_conditions)\n",
    "monthly_weather_rentals = day_df.groupby(['year', 'month', 'weather_desc'])['cnt'].sum().reset_index()\n",
    "\n",
    "weather_year_2011 = monthly_weather_rentals[monthly_weather_rentals['year'] == 2011]\n",
    "max_weather_2011 = weather_year_2011.loc[weather_year_2011.groupby('month')['cnt'].idxmax()]\n",
    "\n",
    "weather_year_2012 = monthly_weather_rentals[monthly_weather_rentals['year'] == 2012]\n",
    "max_weather_2012 = weather_year_2012.loc[weather_year_2012.groupby('month')['cnt'].idxmax()]\n",
    "\n",
    "max_weather_2011['month_name'] = max_weather_2011['month'].apply(lambda x: calendar.month_name[x])\n",
    "max_weather_2012['month_name'] = max_weather_2012['month'].apply(lambda x: calendar.month_name[x])\n",
    "\n",
    "print(\"Kondisi cuaca dengan penyewa terbanyak di tahun 2011:\")\n",
    "print(max_weather_2011[['month_name', 'weather_desc', 'cnt']])\n",
    "\n",
    "print(\"\\nKondisi cuaca dengan penyewa terbanyak di tahun 2012:\")\n",
    "print(max_weather_2012[['month_name', 'weather_desc', 'cnt']])\n"
   ]
  },
  {
   "cell_type": "markdown",
   "id": "b06e81ff-085b-4a79-975e-865bcf242d82",
   "metadata": {},
   "source": [
    "**Insight:**\n",
    "- Berdasarkan kondisi cuaca per bulannya pada tahun 2011 dan 2012, didapatkan bahwa kondisi cuaca pada awal hingga pertengahan bulan cerah, sedikit berawan. Kondisi ini sangat mendukung dalam peningkatan jumlah penyewaan sepeda. Namun, terlihat bahwa total penyewaan pada 4-5 bulan terakhir tahun 2011 dan 2012 mengalami penurunan. Kondisi cuaca pada beberapa bulan terakhir tahun 2011 dan 2012 adalah berkabut+berawan."
   ]
  },
  {
   "cell_type": "markdown",
   "id": "df56ae76",
   "metadata": {},
   "source": [
    "##### Total Bike Rentals Berdasarkan Kondisi Cuaca Beberapa Bulan Terakhir Tahun 2011 dan 2012"
   ]
  },
  {
   "cell_type": "code",
   "execution_count": 18,
   "id": "67db0334-f56c-415b-b589-07780929f236",
   "metadata": {},
   "outputs": [
    {
     "name": "stdout",
     "output_type": "stream",
     "text": [
      "Tahun 2011\n",
      "   month_name            weather_desc     cnt\n",
      "0      August       Clear, Few clouds  107467\n",
      "1      August           Mist + Cloudy   29224\n",
      "2   September       Clear, Few clouds   53506\n",
      "3   September  Light Snow, Light Rain    6548\n",
      "4   September           Mist + Cloudy   67364\n",
      "5     October       Clear, Few clouds   82959\n",
      "6     October  Light Snow, Light Rain    5467\n",
      "7     October           Mist + Cloudy   35085\n",
      "8    November       Clear, Few clouds   72751\n",
      "9    November  Light Snow, Light Rain    6189\n",
      "10   November           Mist + Cloudy   23227\n",
      "11   December       Clear, Few clouds   55808\n",
      "12   December  Light Snow, Light Rain    3299\n",
      "13   December           Mist + Cloudy   28216\n",
      "\n",
      "Tahun 2012\n",
      "  month_name            weather_desc     cnt\n",
      "0  September       Clear, Few clouds  168694\n",
      "1  September           Mist + Cloudy   49879\n",
      "2    October       Clear, Few clouds  104538\n",
      "3    October  Light Snow, Light Rain    4661\n",
      "4    October           Mist + Cloudy   89642\n",
      "5   November       Clear, Few clouds  111874\n",
      "6   November           Mist + Cloudy   40790\n",
      "7   December       Clear, Few clouds   56290\n",
      "8   December  Light Snow, Light Rain     441\n",
      "9   December           Mist + Cloudy   66982\n"
     ]
    }
   ],
   "source": [
    "print(\"Tahun 2011\")\n",
    "months_2011 = day_df[(day_df['year'] == 2011) & (day_df['month'].isin([8, 9, 10, 11, 12]))].copy()\n",
    "months_2011['weather_desc'] = months_2011['weathersit'].map(weather_conditions)\n",
    "weather_months_2011 = months_2011.groupby(['month', 'weather_desc'])['cnt'].sum().reset_index()\n",
    "weather_months_2011['month_name'] = weather_months_2011['month'].apply(lambda x: calendar.month_name[x])\n",
    "print(weather_months_2011[['month_name', 'weather_desc', 'cnt']])\n",
    "\n",
    "print(\"\\nTahun 2012\")\n",
    "months_2012 = day_df[(day_df['year'] == 2012) & (day_df['month'].isin([ 9, 10, 11, 12]))].copy()\n",
    "months_2012['weather_desc'] = months_2012['weathersit'].map(weather_conditions)\n",
    "weather_months_2012 = months_2012.groupby(['month', 'weather_desc'])['cnt'].sum().reset_index()\n",
    "weather_months_2012['month_name'] = weather_months_2012['month'].apply(lambda x: calendar.month_name[x])\n",
    "print(weather_months_2012[['month_name', 'weather_desc', 'cnt']])\n"
   ]
  },
  {
   "cell_type": "markdown",
   "id": "179a0e1b",
   "metadata": {},
   "source": [
    "**Insight:**\n",
    "- Berdasarkan kondisi cuaca pada beberapa bulan terakhir pada tahun 2011 dan 2012, didapatkan bahwa kondisi cuaca tidak sebagus dengan cuaca pertengahan bulan yang ditandai terjadi gerimis dan sedikit bersalju pada beberapa bulan terakhir tahun 2011 dan 2012. Oleh karena itu, dapat dikatakan bahwa kondisi cuaca mempengaruhi tingkat penyewaan sepeda."
   ]
  },
  {
   "cell_type": "markdown",
   "id": "8a22390f-f318-430d-a567-b28a21055292",
   "metadata": {},
   "source": [
    "### Explore hour_df data"
   ]
  },
  {
   "cell_type": "code",
   "execution_count": 19,
   "id": "6343202c-057c-4046-beb7-6eb12654e4e0",
   "metadata": {},
   "outputs": [
    {
     "data": {
      "text/html": [
       "<div>\n",
       "<style scoped>\n",
       "    .dataframe tbody tr th:only-of-type {\n",
       "        vertical-align: middle;\n",
       "    }\n",
       "\n",
       "    .dataframe tbody tr th {\n",
       "        vertical-align: top;\n",
       "    }\n",
       "\n",
       "    .dataframe thead th {\n",
       "        text-align: right;\n",
       "    }\n",
       "</style>\n",
       "<table border=\"1\" class=\"dataframe\">\n",
       "  <thead>\n",
       "    <tr style=\"text-align: right;\">\n",
       "      <th></th>\n",
       "      <th>instant</th>\n",
       "      <th>dteday</th>\n",
       "      <th>season</th>\n",
       "      <th>yr</th>\n",
       "      <th>mnth</th>\n",
       "      <th>hr</th>\n",
       "      <th>holiday</th>\n",
       "      <th>weekday</th>\n",
       "      <th>workingday</th>\n",
       "      <th>weathersit</th>\n",
       "      <th>temp</th>\n",
       "      <th>atemp</th>\n",
       "      <th>hum</th>\n",
       "      <th>windspeed</th>\n",
       "      <th>casual</th>\n",
       "      <th>registered</th>\n",
       "      <th>cnt</th>\n",
       "    </tr>\n",
       "  </thead>\n",
       "  <tbody>\n",
       "    <tr>\n",
       "      <th>count</th>\n",
       "      <td>17379.0000</td>\n",
       "      <td>17379</td>\n",
       "      <td>17379.000000</td>\n",
       "      <td>17379.000000</td>\n",
       "      <td>17379.000000</td>\n",
       "      <td>17379.000000</td>\n",
       "      <td>17379.000000</td>\n",
       "      <td>17379.000000</td>\n",
       "      <td>17379.000000</td>\n",
       "      <td>17379.000000</td>\n",
       "      <td>17379.000000</td>\n",
       "      <td>17379.000000</td>\n",
       "      <td>17379.000000</td>\n",
       "      <td>17379.000000</td>\n",
       "      <td>17379.000000</td>\n",
       "      <td>17379.000000</td>\n",
       "      <td>17379.000000</td>\n",
       "    </tr>\n",
       "    <tr>\n",
       "      <th>mean</th>\n",
       "      <td>8690.0000</td>\n",
       "      <td>2012-01-02 04:08:34.552045568</td>\n",
       "      <td>2.501640</td>\n",
       "      <td>0.502561</td>\n",
       "      <td>6.537775</td>\n",
       "      <td>11.546752</td>\n",
       "      <td>0.028770</td>\n",
       "      <td>3.003683</td>\n",
       "      <td>0.682721</td>\n",
       "      <td>1.425283</td>\n",
       "      <td>0.496987</td>\n",
       "      <td>0.475775</td>\n",
       "      <td>0.627229</td>\n",
       "      <td>0.190098</td>\n",
       "      <td>35.676218</td>\n",
       "      <td>153.786869</td>\n",
       "      <td>189.463088</td>\n",
       "    </tr>\n",
       "    <tr>\n",
       "      <th>min</th>\n",
       "      <td>1.0000</td>\n",
       "      <td>2011-01-01 00:00:00</td>\n",
       "      <td>1.000000</td>\n",
       "      <td>0.000000</td>\n",
       "      <td>1.000000</td>\n",
       "      <td>0.000000</td>\n",
       "      <td>0.000000</td>\n",
       "      <td>0.000000</td>\n",
       "      <td>0.000000</td>\n",
       "      <td>1.000000</td>\n",
       "      <td>0.020000</td>\n",
       "      <td>0.000000</td>\n",
       "      <td>0.000000</td>\n",
       "      <td>0.000000</td>\n",
       "      <td>0.000000</td>\n",
       "      <td>0.000000</td>\n",
       "      <td>1.000000</td>\n",
       "    </tr>\n",
       "    <tr>\n",
       "      <th>25%</th>\n",
       "      <td>4345.5000</td>\n",
       "      <td>2011-07-04 00:00:00</td>\n",
       "      <td>2.000000</td>\n",
       "      <td>0.000000</td>\n",
       "      <td>4.000000</td>\n",
       "      <td>6.000000</td>\n",
       "      <td>0.000000</td>\n",
       "      <td>1.000000</td>\n",
       "      <td>0.000000</td>\n",
       "      <td>1.000000</td>\n",
       "      <td>0.340000</td>\n",
       "      <td>0.333300</td>\n",
       "      <td>0.480000</td>\n",
       "      <td>0.104500</td>\n",
       "      <td>4.000000</td>\n",
       "      <td>34.000000</td>\n",
       "      <td>40.000000</td>\n",
       "    </tr>\n",
       "    <tr>\n",
       "      <th>50%</th>\n",
       "      <td>8690.0000</td>\n",
       "      <td>2012-01-02 00:00:00</td>\n",
       "      <td>3.000000</td>\n",
       "      <td>1.000000</td>\n",
       "      <td>7.000000</td>\n",
       "      <td>12.000000</td>\n",
       "      <td>0.000000</td>\n",
       "      <td>3.000000</td>\n",
       "      <td>1.000000</td>\n",
       "      <td>1.000000</td>\n",
       "      <td>0.500000</td>\n",
       "      <td>0.484800</td>\n",
       "      <td>0.630000</td>\n",
       "      <td>0.194000</td>\n",
       "      <td>17.000000</td>\n",
       "      <td>115.000000</td>\n",
       "      <td>142.000000</td>\n",
       "    </tr>\n",
       "    <tr>\n",
       "      <th>75%</th>\n",
       "      <td>13034.5000</td>\n",
       "      <td>2012-07-02 00:00:00</td>\n",
       "      <td>3.000000</td>\n",
       "      <td>1.000000</td>\n",
       "      <td>10.000000</td>\n",
       "      <td>18.000000</td>\n",
       "      <td>0.000000</td>\n",
       "      <td>5.000000</td>\n",
       "      <td>1.000000</td>\n",
       "      <td>2.000000</td>\n",
       "      <td>0.660000</td>\n",
       "      <td>0.621200</td>\n",
       "      <td>0.780000</td>\n",
       "      <td>0.253700</td>\n",
       "      <td>48.000000</td>\n",
       "      <td>220.000000</td>\n",
       "      <td>281.000000</td>\n",
       "    </tr>\n",
       "    <tr>\n",
       "      <th>max</th>\n",
       "      <td>17379.0000</td>\n",
       "      <td>2012-12-31 00:00:00</td>\n",
       "      <td>4.000000</td>\n",
       "      <td>1.000000</td>\n",
       "      <td>12.000000</td>\n",
       "      <td>23.000000</td>\n",
       "      <td>1.000000</td>\n",
       "      <td>6.000000</td>\n",
       "      <td>1.000000</td>\n",
       "      <td>4.000000</td>\n",
       "      <td>1.000000</td>\n",
       "      <td>1.000000</td>\n",
       "      <td>1.000000</td>\n",
       "      <td>0.850700</td>\n",
       "      <td>367.000000</td>\n",
       "      <td>886.000000</td>\n",
       "      <td>977.000000</td>\n",
       "    </tr>\n",
       "    <tr>\n",
       "      <th>std</th>\n",
       "      <td>5017.0295</td>\n",
       "      <td>NaN</td>\n",
       "      <td>1.106918</td>\n",
       "      <td>0.500008</td>\n",
       "      <td>3.438776</td>\n",
       "      <td>6.914405</td>\n",
       "      <td>0.167165</td>\n",
       "      <td>2.005771</td>\n",
       "      <td>0.465431</td>\n",
       "      <td>0.639357</td>\n",
       "      <td>0.192556</td>\n",
       "      <td>0.171850</td>\n",
       "      <td>0.192930</td>\n",
       "      <td>0.122340</td>\n",
       "      <td>49.305030</td>\n",
       "      <td>151.357286</td>\n",
       "      <td>181.387599</td>\n",
       "    </tr>\n",
       "  </tbody>\n",
       "</table>\n",
       "</div>"
      ],
      "text/plain": [
       "          instant                         dteday        season            yr  \\\n",
       "count  17379.0000                          17379  17379.000000  17379.000000   \n",
       "mean    8690.0000  2012-01-02 04:08:34.552045568      2.501640      0.502561   \n",
       "min        1.0000            2011-01-01 00:00:00      1.000000      0.000000   \n",
       "25%     4345.5000            2011-07-04 00:00:00      2.000000      0.000000   \n",
       "50%     8690.0000            2012-01-02 00:00:00      3.000000      1.000000   \n",
       "75%    13034.5000            2012-07-02 00:00:00      3.000000      1.000000   \n",
       "max    17379.0000            2012-12-31 00:00:00      4.000000      1.000000   \n",
       "std     5017.0295                            NaN      1.106918      0.500008   \n",
       "\n",
       "               mnth            hr       holiday       weekday    workingday  \\\n",
       "count  17379.000000  17379.000000  17379.000000  17379.000000  17379.000000   \n",
       "mean       6.537775     11.546752      0.028770      3.003683      0.682721   \n",
       "min        1.000000      0.000000      0.000000      0.000000      0.000000   \n",
       "25%        4.000000      6.000000      0.000000      1.000000      0.000000   \n",
       "50%        7.000000     12.000000      0.000000      3.000000      1.000000   \n",
       "75%       10.000000     18.000000      0.000000      5.000000      1.000000   \n",
       "max       12.000000     23.000000      1.000000      6.000000      1.000000   \n",
       "std        3.438776      6.914405      0.167165      2.005771      0.465431   \n",
       "\n",
       "         weathersit          temp         atemp           hum     windspeed  \\\n",
       "count  17379.000000  17379.000000  17379.000000  17379.000000  17379.000000   \n",
       "mean       1.425283      0.496987      0.475775      0.627229      0.190098   \n",
       "min        1.000000      0.020000      0.000000      0.000000      0.000000   \n",
       "25%        1.000000      0.340000      0.333300      0.480000      0.104500   \n",
       "50%        1.000000      0.500000      0.484800      0.630000      0.194000   \n",
       "75%        2.000000      0.660000      0.621200      0.780000      0.253700   \n",
       "max        4.000000      1.000000      1.000000      1.000000      0.850700   \n",
       "std        0.639357      0.192556      0.171850      0.192930      0.122340   \n",
       "\n",
       "             casual    registered           cnt  \n",
       "count  17379.000000  17379.000000  17379.000000  \n",
       "mean      35.676218    153.786869    189.463088  \n",
       "min        0.000000      0.000000      1.000000  \n",
       "25%        4.000000     34.000000     40.000000  \n",
       "50%       17.000000    115.000000    142.000000  \n",
       "75%       48.000000    220.000000    281.000000  \n",
       "max      367.000000    886.000000    977.000000  \n",
       "std       49.305030    151.357286    181.387599  "
      ]
     },
     "execution_count": 19,
     "metadata": {},
     "output_type": "execute_result"
    }
   ],
   "source": [
    "hour_df.describe(include=\"all\")"
   ]
  },
  {
   "cell_type": "markdown",
   "id": "79ef3f2c-704f-40ef-908a-401575977f15",
   "metadata": {},
   "source": [
    "**Insight:**\n",
    "- Berdasarkan rangkuman parameter statistik diatas, diperoleh jumlah penyewaan sepeda paling sedikit adalah 1 sepeda dan yang terbanyak adalah 977 sepeda per jamnya. Pada penyewa casual, per jamnya paling rendah adalah 0 sepeda dan 367 adalah nilai tertingginya. Sedangkan, pada penyewa registered, jumlah penyewaan sepeda paling sedikit adalah 0 sepeda dan jumlah terbanyak adalah 886 sepeda per jamnya."
   ]
  },
  {
   "cell_type": "markdown",
   "id": "d4dcc78b",
   "metadata": {},
   "source": [
    "##### Total Bike Rentals Per Jam Tahun 2011 dan 2012"
   ]
  },
  {
   "cell_type": "code",
   "execution_count": 20,
   "id": "af005a4f-ad77-480c-bf22-87d26ee6d06d",
   "metadata": {},
   "outputs": [
    {
     "data": {
      "text/html": [
       "<div>\n",
       "<style scoped>\n",
       "    .dataframe tbody tr th:only-of-type {\n",
       "        vertical-align: middle;\n",
       "    }\n",
       "\n",
       "    .dataframe tbody tr th {\n",
       "        vertical-align: top;\n",
       "    }\n",
       "\n",
       "    .dataframe thead tr th {\n",
       "        text-align: left;\n",
       "    }\n",
       "\n",
       "    .dataframe thead tr:last-of-type th {\n",
       "        text-align: right;\n",
       "    }\n",
       "</style>\n",
       "<table border=\"1\" class=\"dataframe\">\n",
       "  <thead>\n",
       "    <tr>\n",
       "      <th></th>\n",
       "      <th colspan=\"4\" halign=\"left\">cnt</th>\n",
       "    </tr>\n",
       "    <tr>\n",
       "      <th></th>\n",
       "      <th>max</th>\n",
       "      <th>min</th>\n",
       "      <th>mean</th>\n",
       "      <th>std</th>\n",
       "    </tr>\n",
       "    <tr>\n",
       "      <th>hr</th>\n",
       "      <th></th>\n",
       "      <th></th>\n",
       "      <th></th>\n",
       "      <th></th>\n",
       "    </tr>\n",
       "  </thead>\n",
       "  <tbody>\n",
       "    <tr>\n",
       "      <th>0</th>\n",
       "      <td>283</td>\n",
       "      <td>2</td>\n",
       "      <td>53.898072</td>\n",
       "      <td>42.307910</td>\n",
       "    </tr>\n",
       "    <tr>\n",
       "      <th>1</th>\n",
       "      <td>168</td>\n",
       "      <td>1</td>\n",
       "      <td>33.375691</td>\n",
       "      <td>33.538727</td>\n",
       "    </tr>\n",
       "    <tr>\n",
       "      <th>2</th>\n",
       "      <td>132</td>\n",
       "      <td>1</td>\n",
       "      <td>22.869930</td>\n",
       "      <td>26.578642</td>\n",
       "    </tr>\n",
       "    <tr>\n",
       "      <th>3</th>\n",
       "      <td>79</td>\n",
       "      <td>1</td>\n",
       "      <td>11.727403</td>\n",
       "      <td>13.239190</td>\n",
       "    </tr>\n",
       "    <tr>\n",
       "      <th>4</th>\n",
       "      <td>28</td>\n",
       "      <td>1</td>\n",
       "      <td>6.352941</td>\n",
       "      <td>4.143818</td>\n",
       "    </tr>\n",
       "    <tr>\n",
       "      <th>5</th>\n",
       "      <td>66</td>\n",
       "      <td>1</td>\n",
       "      <td>19.889819</td>\n",
       "      <td>13.200765</td>\n",
       "    </tr>\n",
       "    <tr>\n",
       "      <th>6</th>\n",
       "      <td>213</td>\n",
       "      <td>1</td>\n",
       "      <td>76.044138</td>\n",
       "      <td>55.084348</td>\n",
       "    </tr>\n",
       "    <tr>\n",
       "      <th>7</th>\n",
       "      <td>596</td>\n",
       "      <td>1</td>\n",
       "      <td>212.064649</td>\n",
       "      <td>161.441936</td>\n",
       "    </tr>\n",
       "    <tr>\n",
       "      <th>8</th>\n",
       "      <td>839</td>\n",
       "      <td>5</td>\n",
       "      <td>359.011004</td>\n",
       "      <td>235.189285</td>\n",
       "    </tr>\n",
       "    <tr>\n",
       "      <th>9</th>\n",
       "      <td>426</td>\n",
       "      <td>14</td>\n",
       "      <td>219.309491</td>\n",
       "      <td>93.703458</td>\n",
       "    </tr>\n",
       "    <tr>\n",
       "      <th>10</th>\n",
       "      <td>539</td>\n",
       "      <td>8</td>\n",
       "      <td>173.668501</td>\n",
       "      <td>102.205413</td>\n",
       "    </tr>\n",
       "    <tr>\n",
       "      <th>11</th>\n",
       "      <td>663</td>\n",
       "      <td>10</td>\n",
       "      <td>208.143054</td>\n",
       "      <td>127.495536</td>\n",
       "    </tr>\n",
       "    <tr>\n",
       "      <th>12</th>\n",
       "      <td>776</td>\n",
       "      <td>3</td>\n",
       "      <td>253.315934</td>\n",
       "      <td>145.081134</td>\n",
       "    </tr>\n",
       "    <tr>\n",
       "      <th>13</th>\n",
       "      <td>760</td>\n",
       "      <td>11</td>\n",
       "      <td>253.661180</td>\n",
       "      <td>148.107657</td>\n",
       "    </tr>\n",
       "    <tr>\n",
       "      <th>14</th>\n",
       "      <td>750</td>\n",
       "      <td>12</td>\n",
       "      <td>240.949246</td>\n",
       "      <td>147.271574</td>\n",
       "    </tr>\n",
       "    <tr>\n",
       "      <th>15</th>\n",
       "      <td>750</td>\n",
       "      <td>7</td>\n",
       "      <td>251.233196</td>\n",
       "      <td>144.632541</td>\n",
       "    </tr>\n",
       "    <tr>\n",
       "      <th>16</th>\n",
       "      <td>783</td>\n",
       "      <td>11</td>\n",
       "      <td>311.983562</td>\n",
       "      <td>148.682618</td>\n",
       "    </tr>\n",
       "    <tr>\n",
       "      <th>17</th>\n",
       "      <td>976</td>\n",
       "      <td>15</td>\n",
       "      <td>461.452055</td>\n",
       "      <td>232.656611</td>\n",
       "    </tr>\n",
       "    <tr>\n",
       "      <th>18</th>\n",
       "      <td>977</td>\n",
       "      <td>23</td>\n",
       "      <td>425.510989</td>\n",
       "      <td>224.639304</td>\n",
       "    </tr>\n",
       "    <tr>\n",
       "      <th>19</th>\n",
       "      <td>743</td>\n",
       "      <td>11</td>\n",
       "      <td>311.523352</td>\n",
       "      <td>161.050359</td>\n",
       "    </tr>\n",
       "    <tr>\n",
       "      <th>20</th>\n",
       "      <td>567</td>\n",
       "      <td>11</td>\n",
       "      <td>226.030220</td>\n",
       "      <td>119.670164</td>\n",
       "    </tr>\n",
       "    <tr>\n",
       "      <th>21</th>\n",
       "      <td>584</td>\n",
       "      <td>6</td>\n",
       "      <td>172.314560</td>\n",
       "      <td>89.788893</td>\n",
       "    </tr>\n",
       "    <tr>\n",
       "      <th>22</th>\n",
       "      <td>502</td>\n",
       "      <td>9</td>\n",
       "      <td>131.335165</td>\n",
       "      <td>69.937782</td>\n",
       "    </tr>\n",
       "    <tr>\n",
       "      <th>23</th>\n",
       "      <td>256</td>\n",
       "      <td>2</td>\n",
       "      <td>87.831044</td>\n",
       "      <td>50.846889</td>\n",
       "    </tr>\n",
       "  </tbody>\n",
       "</table>\n",
       "</div>"
      ],
      "text/plain": [
       "    cnt                            \n",
       "    max min        mean         std\n",
       "hr                                 \n",
       "0   283   2   53.898072   42.307910\n",
       "1   168   1   33.375691   33.538727\n",
       "2   132   1   22.869930   26.578642\n",
       "3    79   1   11.727403   13.239190\n",
       "4    28   1    6.352941    4.143818\n",
       "5    66   1   19.889819   13.200765\n",
       "6   213   1   76.044138   55.084348\n",
       "7   596   1  212.064649  161.441936\n",
       "8   839   5  359.011004  235.189285\n",
       "9   426  14  219.309491   93.703458\n",
       "10  539   8  173.668501  102.205413\n",
       "11  663  10  208.143054  127.495536\n",
       "12  776   3  253.315934  145.081134\n",
       "13  760  11  253.661180  148.107657\n",
       "14  750  12  240.949246  147.271574\n",
       "15  750   7  251.233196  144.632541\n",
       "16  783  11  311.983562  148.682618\n",
       "17  976  15  461.452055  232.656611\n",
       "18  977  23  425.510989  224.639304\n",
       "19  743  11  311.523352  161.050359\n",
       "20  567  11  226.030220  119.670164\n",
       "21  584   6  172.314560   89.788893\n",
       "22  502   9  131.335165   69.937782\n",
       "23  256   2   87.831044   50.846889"
      ]
     },
     "execution_count": 20,
     "metadata": {},
     "output_type": "execute_result"
    }
   ],
   "source": [
    "hour_df.groupby(by=\"hr\").agg({\n",
    "    \"cnt\": [\"max\", \"min\", \"mean\", \"std\"]\n",
    "})"
   ]
  },
  {
   "cell_type": "markdown",
   "id": "744a495d-59c8-4d78-93ed-346adaed5984",
   "metadata": {},
   "source": [
    "**Insight:**\n",
    "- Berdasarkan hasil yang didapatkan, diperoleh jumlah penyewaan yang cukup tinggi terjadi pada jam 5 hingga 6 sore. Sedangkan jumlah penyewaan terendah terjadi pada jam 4 pagi."
   ]
  },
  {
   "cell_type": "code",
   "execution_count": 21,
   "id": "5e082eae-c5fc-4952-96d5-654f45d8dbd9",
   "metadata": {},
   "outputs": [
    {
     "data": {
      "text/html": [
       "<div>\n",
       "<style scoped>\n",
       "    .dataframe tbody tr th:only-of-type {\n",
       "        vertical-align: middle;\n",
       "    }\n",
       "\n",
       "    .dataframe tbody tr th {\n",
       "        vertical-align: top;\n",
       "    }\n",
       "\n",
       "    .dataframe thead tr th {\n",
       "        text-align: left;\n",
       "    }\n",
       "\n",
       "    .dataframe thead tr:last-of-type th {\n",
       "        text-align: right;\n",
       "    }\n",
       "</style>\n",
       "<table border=\"1\" class=\"dataframe\">\n",
       "  <thead>\n",
       "    <tr>\n",
       "      <th></th>\n",
       "      <th colspan=\"4\" halign=\"left\">cnt</th>\n",
       "    </tr>\n",
       "    <tr>\n",
       "      <th></th>\n",
       "      <th>max</th>\n",
       "      <th>min</th>\n",
       "      <th>mean</th>\n",
       "      <th>std</th>\n",
       "    </tr>\n",
       "    <tr>\n",
       "      <th>weather_desc</th>\n",
       "      <th></th>\n",
       "      <th></th>\n",
       "      <th></th>\n",
       "      <th></th>\n",
       "    </tr>\n",
       "  </thead>\n",
       "  <tbody>\n",
       "    <tr>\n",
       "      <th>Clear, Few clouds</th>\n",
       "      <td>977</td>\n",
       "      <td>1</td>\n",
       "      <td>204.869272</td>\n",
       "      <td>189.487773</td>\n",
       "    </tr>\n",
       "    <tr>\n",
       "      <th>Heavy Rain, Ice Pallets</th>\n",
       "      <td>164</td>\n",
       "      <td>23</td>\n",
       "      <td>74.333333</td>\n",
       "      <td>77.925178</td>\n",
       "    </tr>\n",
       "    <tr>\n",
       "      <th>Light Snow, Light Rain</th>\n",
       "      <td>891</td>\n",
       "      <td>1</td>\n",
       "      <td>111.579281</td>\n",
       "      <td>133.781045</td>\n",
       "    </tr>\n",
       "    <tr>\n",
       "      <th>Mist + Cloudy</th>\n",
       "      <td>957</td>\n",
       "      <td>1</td>\n",
       "      <td>175.165493</td>\n",
       "      <td>165.431589</td>\n",
       "    </tr>\n",
       "  </tbody>\n",
       "</table>\n",
       "</div>"
      ],
      "text/plain": [
       "                         cnt                            \n",
       "                         max min        mean         std\n",
       "weather_desc                                            \n",
       "Clear, Few clouds        977   1  204.869272  189.487773\n",
       "Heavy Rain, Ice Pallets  164  23   74.333333   77.925178\n",
       "Light Snow, Light Rain   891   1  111.579281  133.781045\n",
       "Mist + Cloudy            957   1  175.165493  165.431589"
      ]
     },
     "execution_count": 21,
     "metadata": {},
     "output_type": "execute_result"
    }
   ],
   "source": [
    "weather_conditions = {\n",
    "    1: 'Clear, Few clouds',\n",
    "    2: 'Mist + Cloudy',\n",
    "    3: 'Light Snow, Light Rain',\n",
    "    4: 'Heavy Rain, Ice Pallets'\n",
    "}\n",
    "\n",
    "hour_df['weather_desc'] = hour_df['weathersit'].map(weather_conditions)\n",
    "result = hour_df.groupby(by=\"weather_desc\").agg({\n",
    "    \"cnt\": [\"max\", \"min\", \"mean\", \"std\"]\n",
    "})\n",
    "\n",
    "result"
   ]
  },
  {
   "cell_type": "markdown",
   "id": "1f687ba5-22eb-47d4-926c-83a1216a7b77",
   "metadata": {},
   "source": [
    "**Insight:**\n",
    "Berdasarkan kondisi cuaca per jamnya, diperolah bahwa:\n",
    "- Pada kondisi cuaca cerah, sedikit berawan (Clear, Few) clouds terjadi penyewaan yang tinggi\t\n",
    "- Pada kondisi cuaca berkabut dan berawan (Mist + Cloudy), jumlah penyewaan sepeda sedikit menurun, namun jumlahnya tidak jauh dengan jumlah penyewaan saat kondisi cuaca cerah\n",
    "- Pada kondisi cuaca dengan gerimis, sedikit bersalju (Light Snow, Light Rain) jumlah penyewaan mengalami sedikit penurunan\n",
    "- Pada kondisi cuaca dengan hujan deras, hujan es (Heavy Rain, Ice Pallets) jumlah penyewaan mengalami penurunan yang sangat drastis, namun pada kondisi ini kolom nilai minimum jumlah penyewaan sepeda, memiliki nilai yang tinggi dibandingkan dengan cuaca lain yaitu 23 sepeda\n"
   ]
  },
  {
   "cell_type": "markdown",
   "id": "e65549e3-3902-4208-8fdf-a8d153239d16",
   "metadata": {},
   "source": [
    "## Visualization & Explanatory Analysis"
   ]
  },
  {
   "cell_type": "markdown",
   "id": "6b7a47c0-703c-47b7-a9cb-9b9d71d048c9",
   "metadata": {},
   "source": [
    "### Pertanyaan 1: Bagaimana Tren Penyewaan Sepeda Sepanjang Tahun 2011 dan 2012? "
   ]
  },
  {
   "cell_type": "code",
   "execution_count": 22,
   "id": "d560ddb0-cc79-41ca-9a02-ef356ce98154",
   "metadata": {},
   "outputs": [
    {
     "data": {
      "image/png": "[encoded data removed]",
      "text/plain": [
       "<Figure size 1500x700 with 1 Axes>"
      ]
     },
     "metadata": {},
     "output_type": "display_data"
    }
   ],
   "source": [
    "plt.figure(figsize=(15,7))\n",
    "for year in monthly_rentals['year'].unique():\n",
    "    monthly_rentals_data = monthly_rentals[monthly_rentals['year'] == year]\n",
    "    plt.plot(monthly_rentals_data['month'], \n",
    "             monthly_rentals_data['cnt'], \n",
    "             label=f'Tahun {year}',\n",
    "             marker='o', \n",
    "             linewidth=2\n",
    "            )\n",
    "    \n",
    "plt.xticks(range(1, 13), labels=list(calendar.month_name[1:]))\n",
    "plt.title('Total Penyewaan Sepeda per Bulan')\n",
    "plt.xlabel('Bulan')\n",
    "plt.ylabel('Total Penyewaan Sepeda (Unit)')\n",
    "plt.show()"
   ]
  },
  {
   "cell_type": "markdown",
   "id": "9c8b85f1",
   "metadata": {},
   "source": [
    "**Insight:**\n",
    "Berdasarkan hasil yang didapatkan, diperoleh informasi bahwa terjadi peningkatan penyewaan sepeda yang pesat pada awal bulan hingga pertengahan bulan. Beberapa bulan sebelum akhir tahun 2011 terjadi penurunan yang signifikan, namun jumlah penyewaan sepeda pada awal tahun 2012 hingga pertengahan tahun kembali mengalami peningkatan yang signifikan."
   ]
  },
  {
   "cell_type": "code",
   "execution_count": 23,
   "id": "586e2638-e48c-44f8-849d-28560770b828",
   "metadata": {},
   "outputs": [
    {
     "data": {
      "image/png": "[encoded data removed]",
      "text/plain": [
       "<Figure size 1500x700 with 1 Axes>"
      ]
     },
     "metadata": {},
     "output_type": "display_data"
    }
   ],
   "source": [
    "monthly_avg_rentals = monthly_rentals.groupby('month')['cnt'].mean().reset_index()\n",
    "monthly_avg_rentals['month_num'] = range(1, 13)\n",
    "\n",
    "plt.figure(figsize=(15,7))\n",
    "sns.regplot(x='month_num', \n",
    "            y='cnt', \n",
    "            data=monthly_avg_rentals, \n",
    "            marker='o', \n",
    "            color='blue')\n",
    "\n",
    "plt.xticks(range(1, 13), labels=list(calendar.month_name[1:]))\n",
    "plt.title('Rata-Rata Jumlah Penyewaan Sepeda per Bulan')\n",
    "plt.xlabel('Bulan')\n",
    "plt.ylabel('Rata-Rata Penyewaan Sepeda (Unit)')\n",
    "\n",
    "plt.show()"
   ]
  },
  {
   "cell_type": "markdown",
   "id": "3aad63c4",
   "metadata": {},
   "source": [
    "**Insight:**\n",
    "Pada visualisasi data di atas, diperoleh informasi:\n",
    "- Tren Meningkat: Jumlah penyewa sepeda secara umum mengalami peningkatan dari awal hingga pertengahan tahun.\n",
    "- Fluktuasi Musiman: Terdapat pola naik turun yang cukup signifikan pada jumlah penyewaan setiap bulannya, yang kemungkinan dipengaruhi oleh beberapa faktor tertentu.\n",
    "- Stabilitas Tren: Garis tren menunjukkan kecenderungan peningkatan yang stabil, meskipun ada fluktuasi.\n",
    "- Confidence Level: Bentuk pita pada pertengahan bulan terlihat semakin mengecil yang menandakan tingkat confidence level yang tinggi pada bulan tersebut. Semakin lebar area ini, semakin bervariasi data di sekitar rata-rata tren tersebut yang menandakan ada variasi atau fluktuasi jumlah penyewaan sepeda.\n",
    "\n"
   ]
  },
  {
   "cell_type": "markdown",
   "id": "514fa77b-2289-48bf-8a7c-70539a0199a4",
   "metadata": {},
   "source": [
    "### Pertanyaan 2: Bagaimana Dampak Kondisi Cuaca Terhadap Jumlah Penyewaan Sepeda?"
   ]
  },
  {
   "cell_type": "code",
   "execution_count": 36,
   "id": "e160b11d",
   "metadata": {},
   "outputs": [
    {
     "data": {
      "image/png": "[encoded data removed]",
      "text/plain": [
       "<Figure size 1200x700 with 1 Axes>"
      ]
     },
     "metadata": {},
     "output_type": "display_data"
    }
   ],
   "source": [
    "weather_avg_rentals = hour_df.groupby('weathersit')['cnt'].mean().reset_index()\n",
    "\n",
    "weather_avg_rentals['weather_desc'] = weather_avg_rentals['weathersit'].map(weather_conditions)\n",
    "color=['#9C7658','#C8B5A6','#C8B5A6','#C8B5A6']\n",
    "plt.figure(figsize=(12, 7))\n",
    "plt.bar(weather_avg_rentals['weather_desc'], \n",
    "        weather_avg_rentals['cnt'], \n",
    "        color=color)\n",
    "\n",
    "plt.title('Rata-Rata Jumlah Penyewaan Sepeda Berdasarkan Kondisi Cuaca', fontsize=14)\n",
    "plt.xlabel('Kondisi Cuaca', fontsize=12)\n",
    "plt.ylabel('Rata-Rata Jumlah Penyewa (Unit)', fontsize=12)\n",
    "\n",
    "plt.show()"
   ]
  },
  {
   "cell_type": "markdown",
   "id": "7c00021d",
   "metadata": {},
   "source": [
    "**Insight:**\n",
    "Berdasarkan hasil yang didapatkan, diperoleh informasi bahwa terdapat perbedaan hasil jumlah penyewaan sepeda pada tiap kondisi cuaca. \n",
    "- Pada kondisi cuaca cerah, sedikit berawan (Clear, Few) clouds terjadi penyewaan yang tinggi\t\n",
    "- Pada kondisi cuaca berkabut dan berawan (Mist + Cloudy), jumlah penyewaan sepeda mengalami sedikit penurunan\n",
    "- Pada kondisi cuaca dengan gerimis, sedikit bersalju (Light Snow, Light Rain) jumlah penyewaan mengalami penurunan yang cukup drastis\n",
    "- Pada kondisi cuaca dengan hujan deras, hujan es (Heavy Rain, Ice Pallets) jumlah penyewaan mengalami penurunan yang sangat drastis"
   ]
  },
  {
   "cell_type": "markdown",
   "id": "bd01383a",
   "metadata": {},
   "source": [
    "### Analisis Tambahan : Bagaimana Pengaruh Waktu Terhadap Jumlah Penyewaan Sepeda?"
   ]
  },
  {
   "cell_type": "code",
   "execution_count": 37,
   "id": "659ed8b1",
   "metadata": {},
   "outputs": [
    {
     "data": {
      "image/png": "[encoded data removed]",
      "text/plain": [
       "<Figure size 1000x600 with 1 Axes>"
      ]
     },
     "metadata": {},
     "output_type": "display_data"
    }
   ],
   "source": [
    "hourly_avg = hour_df.groupby(\"hr\")[\"cnt\"].mean().reset_index()\n",
    "plt.figure(figsize=(10, 6))\n",
    "\n",
    "plt.plot(hourly_avg['hr'], hourly_avg['cnt'], label='Mean', marker='o', color='orange')\n",
    "\n",
    "plt.title('Rata-Rata Jumlah Penyewaan Sepeda per Jam', fontsize=16)\n",
    "plt.xlabel('Jam', fontsize=12)\n",
    "plt.ylabel('Rata-Rata Jumlah Penyewaan Sepeda (Unit)', fontsize=12)\n",
    "\n",
    "plt.xticks(range(0,24)) \n",
    "plt.tight_layout()\n",
    "plt.show()\n"
   ]
  },
  {
   "cell_type": "markdown",
   "id": "0cd1fa75",
   "metadata": {},
   "source": [
    "**Insight:**\n",
    "Berdasarkan hasil yang diperoleh, terdapat informasi rata-rata penyewaan sepeda per jam pada tahun 2011-2012\n",
    "- Pagi hingga sore hari: Terjadi peningkatan jumlah penyewaan sepeda. Pada jam-jam ini, orang-orang cenderung melakukan aktivitas produktif seperti bekerja atau sekolah.\n",
    "- Menjelang malam hari: Jumlah penyewaan sepeda menurun, karena pada waktu ini kebanyakan orang sudah kembali ke rumah untuk beristirahat."
   ]
  },
  {
   "cell_type": "markdown",
   "id": "e200e0c3-e183-46be-90e4-05955d8c63cb",
   "metadata": {},
   "source": [
    "## Conclusion"
   ]
  },
  {
   "cell_type": "markdown",
   "id": "7b918fc3",
   "metadata": {},
   "source": [
    "#### 1. Bagaimana Tren Penyewaan Sepeda Sepanjang Tahun 2011 dan 2012? \n",
    "   \n",
    "   Berdasarkan hasil yang didapatkan, penyewaan sepeda mengalami peningkatan yang pesat dari awal hingga pertengahan tahun. Namun, terjadi penurunan signifikan menjelang akhir tahun 2011. Pada awal hingga pertengahan tahun 2012, jumlah penyewaan kembali meningkat dengan pola yang mirip.\n",
    "   \n",
    "   Fluktuasi ini kemungkinan dipengaruhi oleh faktor musiman, sehingga penyewaan sepeda naik-turun setiap bulan. Garis tren secara keseluruhan menunjukkan peningkatan yang konsisten sepanjang periode tersebut. Pada pertengahan bulan, pita visualisasi menyempit, yang menandakan tingkat kepastian yang lebih tinggi dengan variasi data yang lebih sedikit.\n",
    "\n",
    "#### 2. Bagaimana Dampak Kondisi Cuaca Terhadap Jumlah Penyewaan Sepeda\n",
    "\n",
    "Berdasarkan hasil yang diperoleh, kondisi cuaca berpengaruh signifikan terhadap jumlah penyewaan sepeda:\n",
    "- Cuaca cerah atau sedikit berawan (Clear, Few Clouds): Penyewaan sepeda cenderung tinggi, karena kondisi ini sangat mendukung aktivitas di luar ruangan.\n",
    "- Cuaca berkabut dan berawan (Mist + Cloudy): Jumlah penyewaan sepeda mengalami sedikit penurunan, meskipun masih ada aktivitas penyewaan.\n",
    "- Cuaca gerimis atau sedikit bersalju (Light Snow, Light Rain): Penyewaan sepeda menurun cukup drastis, kemungkinan karena kondisi ini membuat orang merasa kurang nyaman untuk bersepeda.\n",
    "- Cuaca dengan hujan deras atau hujan es (Heavy Rain, Ice Pellets): Terjadi penurunan penyewaan yang sangat signifikan, karena cuaca ini tidak mendukung bersepeda.\n",
    "\n",
    "Dengan demikian, penyewaan sepeda lebih tinggi saat cuaca memungkinkan untuk beraktivitas di luar ruangan, terutama pada jam-jam sibuk di siang hari.\n",
    "#### 3. Bagaimana Pengaruh Waktu Terhadap Jumlah Penyewaan Sepeda?\n",
    "\n",
    "Berdasarkan data rata-rata penyewaan sepeda per jam pada tahun 2011-2012, terlihat adanya pola yang jelas terkait waktu:\n",
    "   - Pagi hingga sore hari: Jumlah penyewaan sepeda meningkat, terutama selama jam produktif ketika banyak orang bepergian untuk bekerja atau sekolah.\n",
    "   - Menjelang malam hari: Jumlah penyewaan sepeda menurun signifikan, karena sebagian besar orang sudah kembali ke rumah untuk beristirahat setelah beraktivitas sepanjang hari.\n",
    "\n",
    "Oleh karena itu, dapat disimpulkan bahwa penyewaan sepeda lebih banyak terjadi selama jam-jam produktif, dan menurun pada malam hari ketika aktivitas berkurang.\n",
    "\n",
    "\n",
    "\n",
    "\n",
    "\n"
   ]
  }
 ],
 "metadata": {
  "kernelspec": {
   "display_name": "Python 3",
   "language": "python",
   "name": "python3"
  },
  "language_info": {
   "codemirror_mode": {
    "name": "ipython",
    "version": 3
   },
   "file_extension": ".py",
   "mimetype": "text/x-python",
   "name": "python",
   "nbconvert_exporter": "python",
   "pygments_lexer": "ipython3",
   "version": "3.12.2"
  }
 },
 "nbformat": 4,
 "nbformat_minor": 5
}
